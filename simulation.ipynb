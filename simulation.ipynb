{
 "cells": [
  {
   "cell_type": "code",
   "execution_count": 1,
   "metadata": {},
   "outputs": [],
   "source": [
    "import numpy as np \n",
    "import py2neo as pn \n",
    "import random as rd\n",
    "import math\n",
    "import copy"
   ]
  },
  {
   "cell_type": "code",
   "execution_count": 34,
   "metadata": {},
   "outputs": [],
   "source": [
    "def barabasi(total_n, starting_n):\n",
    "    ### Generate a Barabasi-Albert network simulation\n",
    "    # total_n: total number of nodes\n",
    "    # starting_n: number of nodes to generate edges uniformly at random\n",
    "    # returns subgraph: neo4j graph object\n",
    "    ###\n",
    "    edges = []\n",
    "    nodes = []\n",
    "    for i in range(starting_n):\n",
    "        # Generate nodes\n",
    "        temp_nodes = [pn.Node('User', name='user' + str(i)) for i in range(starting_n)]\n",
    "        nodes.extend(temp_nodes)\n",
    "        # Generate links uniformly at random\n",
    "        temp = [pn.Relationship(nodes[i], \"follow\", nodes[j]) for j in range(starting_n)\n",
    "                       if rd.uniform(0,1) < 1/2 and i != j]\n",
    "        edges.extend(temp)\n",
    "        temp_subgraph = pn.Subgraph(nodes,edges)\n",
    "    for l in range(starting_n, total_n):\n",
    "        nodes.append(pn.Node('User', name='user' + str(l)))\n",
    "        n = len(edges)\n",
    "        # Compute the probability for a new node to connect to each existing node\n",
    "        temp_probs = [len(list(filter(lambda x: x.end_node == nodes[j], relationships))) for j in range(len(nodes))]\n",
    "        # Generate links for a new node\n",
    "        temp = [pn.Relationship(nodes[l], \"follow\", nodes[j]) for j in range(l) \n",
    "                        if rd.uniform(0,1) < temp_probs[j] and l != j]\n",
    "        edges.extend(temp)\n",
    "        temp_subgraph = pn.Subgraph(nodes,edges)\n",
    "    subgraph = pn.Subgraph(nodes,edges)\n",
    "    return subgraph"
   ]
  },
  {
   "cell_type": "code",
   "execution_count": 31,
   "metadata": {},
   "outputs": [],
   "source": [
    "def postpublish(graph, m0, m1):\n",
    "    ### Simulate a list of posts and users who create them\n",
    "    # graph: py2neo object for follower network\n",
    "    # m0: starting number of posts\n",
    "    # m1: total number of posts\n",
    "    # returns postpublished: list of tuples (i,j) where user i posted post j\n",
    "    ###\n",
    "    postpublished = []\n",
    "    \n",
    "    # Get the number of nodes\n",
    "    n = len(graph.nodes)\n",
    "    \n",
    "    # Generate the first posts\n",
    "    for i in range(m0):\n",
    "        postpublished.append(pn.Node('Post', name='post' + str(i)))\n",
    "    \n",
    "    # Generate the rest of the posts\n",
    "    for m in range(m0,m1):\n",
    "        # Compute the prob that anyone posts\n",
    "        probs = []\n",
    "        for k in range(0,n):\n",
    "            temp_probs = [len(list(filter(lambda x: j == x[1], friends_edges)))\n",
    "                                  for (i,j) in friends_edges]\n",
    "            temp_probs = temp_probs + [len(list(filter(lambda x: j == x[1], follower_edges)))\n",
    "                                  for (i,j) in follower_edges]\n",
    "            temp_probs = temp_probs + [len(list(filter(lambda x: i == x[0], postpublished)))\n",
    "                                  for (i,j) in postpublished]\n",
    "            probs.append(temp_probs)\n",
    "        temp_user = rd.choices(list[range(0,n)], weights = probs)\n",
    "        postpublished.append((temp_user,m))                      \n",
    "    \n",
    "    return postpublished\n",
    "    "
   ]
  },
  {
   "cell_type": "code",
   "execution_count": 9,
   "metadata": {},
   "outputs": [],
   "source": [
    "    # start a new project in Neo4j and set connections\n",
    "    graph = pn.Graph(\n",
    "        host = 'localhost',\n",
    "        http_port = '7474',\n",
    "        user = 'neo4j',\n",
    "        password = '2500'\n",
    "        )   "
   ]
  },
  {
   "cell_type": "code",
   "execution_count": 36,
   "metadata": {},
   "outputs": [],
   "source": [
    "followers = barabasi(100,5)\n",
    "graph.run('match (n:User) detach delete n')\n",
    "graph.create(followers)"
   ]
  },
  {
   "cell_type": "code",
   "execution_count": 13,
   "metadata": {},
   "outputs": [
    {
     "data": {
      "text/plain": [
       "[Node('User', name='user0'),\n",
       " Node('User', name='user1'),\n",
       " Node('User', name='user2'),\n",
       " Node('User', name='user3'),\n",
       " Node('User', name='user4')]"
      ]
     },
     "execution_count": 13,
     "metadata": {},
     "output_type": "execute_result"
    }
   ],
   "source": [
    "nodes = [pn.Node('User', name='user' + str(i)) for i in range(5)]\n",
    "nodes"
   ]
  },
  {
   "cell_type": "code",
   "execution_count": 17,
   "metadata": {},
   "outputs": [],
   "source": [
    "relationships = [pn.Relationship(nodes[i], \"follow\", nodes[rd.choice(range(5))]) for i in range(5)]"
   ]
  },
  {
   "cell_type": "code",
   "execution_count": 18,
   "metadata": {},
   "outputs": [
    {
     "data": {
      "text/plain": [
       "[follow(Node('User', name='user0'), Node('User', name='user3')),\n",
       " follow(Node('User', name='user1'), Node('User', name='user4')),\n",
       " follow(Node('User', name='user2'), Node('User', name='user2')),\n",
       " follow(Node('User', name='user3'), Node('User', name='user3')),\n",
       " follow(Node('User', name='user4'), Node('User', name='user2'))]"
      ]
     },
     "execution_count": 18,
     "metadata": {},
     "output_type": "execute_result"
    }
   ],
   "source": [
    "relationships"
   ]
  },
  {
   "cell_type": "code",
   "execution_count": 20,
   "metadata": {},
   "outputs": [
    {
     "data": {
      "text/plain": [
       "Node('User', name='user1')"
      ]
     },
     "execution_count": 20,
     "metadata": {},
     "output_type": "execute_result"
    }
   ],
   "source": [
    "relationships[1].start_node"
   ]
  },
  {
   "cell_type": "code",
   "execution_count": 31,
   "metadata": {},
   "outputs": [],
   "source": [
    "una_lista = filter(lambda x: x.end_node == nodes[3], relationships)"
   ]
  },
  {
   "cell_type": "code",
   "execution_count": 32,
   "metadata": {},
   "outputs": [
    {
     "data": {
      "text/plain": [
       "2"
      ]
     },
     "execution_count": 32,
     "metadata": {},
     "output_type": "execute_result"
    }
   ],
   "source": [
    "len(list(una_lista))"
   ]
  },
  {
   "cell_type": "code",
   "execution_count": 33,
   "metadata": {},
   "outputs": [
    {
     "data": {
      "text/plain": [
       "Node('User', name='user4')"
      ]
     },
     "execution_count": 33,
     "metadata": {},
     "output_type": "execute_result"
    }
   ],
   "source": [
    "nodes[4]"
   ]
  },
  {
   "cell_type": "code",
   "execution_count": null,
   "metadata": {},
   "outputs": [],
   "source": []
  }
 ],
 "metadata": {
  "kernelspec": {
   "display_name": "Python 3",
   "language": "python",
   "name": "python3"
  },
  "language_info": {
   "codemirror_mode": {
    "name": "ipython",
    "version": 3
   },
   "file_extension": ".py",
   "mimetype": "text/x-python",
   "name": "python",
   "nbconvert_exporter": "python",
   "pygments_lexer": "ipython3",
   "version": "3.8.5"
  }
 },
 "nbformat": 4,
 "nbformat_minor": 4
}
