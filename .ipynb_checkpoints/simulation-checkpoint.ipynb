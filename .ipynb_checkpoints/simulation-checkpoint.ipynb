{
 "cells": [
  {
   "cell_type": "code",
   "execution_count": 1,
   "metadata": {},
   "outputs": [],
   "source": [
    "import numpy as np \n",
    "import py2neo as pn \n",
    "import random as rd\n",
    "import math\n",
    "import copy"
   ]
  },
  {
   "cell_type": "code",
   "execution_count": 34,
   "metadata": {},
   "outputs": [],
   "source": [
    "def barabasi(total_n, starting_n, starting_b):\n",
    "    ### Generate a Barabasi-Albert network simulation\n",
    "    # total_n: total number of nodes\n",
    "    # starting_n: number of nodes to generate edges uniformly at random\n",
    "    # returns subgraph: neo4j graph object\n",
    "    ###\n",
    "    edges = []\n",
    "    nodes = [pn.Node('User', name='user' + str(i)) for i in range(starting_n)]\n",
    "    for i in range(starting_n):\n",
    "        # Generate links uniformly at random\n",
    "        temp_list = list(range(starting_n))\n",
    "        temp_list.remove(i)\n",
    "        linkto = rd.sample(temp_list, starting_b)\n",
    "        temp = [pn.Relationship(nodes[i], \"follow\", nodes[j]) for j in linkto]\n",
    "        edges.extend(temp)\n",
    "    for l in range(starting_n, total_n):\n",
    "        nodes.append(pn.Node('User', name='user' + str(l)))\n",
    "        n = len(edges)\n",
    "        # Compute the probability for a new node to connect to each existing node\n",
    "        temp_probs = [len(list(filter(lambda x: x.end_node == nodes[j] or x.start_node == nodes[j]\n",
    "                                      , edges)))/(2*n) for j in range(len(nodes))]\n",
    "        # Generate links for a new node\n",
    "        temp = [pn.Relationship(nodes[l], \"follow\", nodes[j]) for j in range(l) \n",
    "                        if rd.uniform(0,1) < temp_probs[j] and l != j]\n",
    "        edges.extend(temp)\n",
    "    subgraph = pn.Subgraph(nodes,edges)\n",
    "    return subgraph"
   ]
  },
  {
   "cell_type": "code",
   "execution_count": 47,
   "metadata": {},
   "outputs": [],
   "source": [
    "def postpublish(graph, m0, m1):\n",
    "    ### Simulate a list of posts and users who create them\n",
    "    # graph: py2neo object for follower network\n",
    "    # m0: starting number of posts\n",
    "    # m1: total number of posts\n",
    "    # returns postpublished: list of tuples (i,j) where user i posted post j\n",
    "    ###\n",
    "    postpublished = []\n",
    "    relationships = []\n",
    "    \n",
    "    # Get the users and the number of users\n",
    "    nodes = list(graph.run('MATCH (n: User) RETURN n'))\n",
    "    n = len(nodes)\n",
    "    \n",
    "    # Generate the first posts\n",
    "    for i in range(m0):\n",
    "        new_post = pn.Node('Post', name='post' + str(i))\n",
    "        postpublished.append(new_post)\n",
    "        relationships.append(pn.Relationship(rd.choice(nodes)[0],'published',new_post))\n",
    "    \n",
    "    # Generate the rest of the posts\n",
    "    for m in range(m0,m1):\n",
    "        new_post = pn.Node('Post', name='post' + str(m))\n",
    "        # Compute the prob that anyone posts\n",
    "        probs = []\n",
    "        for k in range(n):\n",
    "            # Count number of followers\n",
    "            temp_probs = list(graph.run('MATCH (n:User {name:\"user' + str(3) + '\"})<-[:follow]-(a) return count(a)').data()[0].values())[0]\n",
    "            # Count number of posts\n",
    "            temp_probs = temp_probs + len(list(filter(lambda x: x.start_node == nodes[k][0], relationships)))\n",
    "            probs.append(temp_probs)\n",
    "        # Choose a user for new post\n",
    "        temp_user = rd.choices(nodes, weights = probs)\n",
    "        postpublished.append(temp_user[0], 'published', new_post)  \n",
    "    subgraph = pn.Subgraph(postpublished,relationships)\n",
    "    return subgraph\n",
    "    "
   ]
  },
  {
   "cell_type": "code",
   "execution_count": null,
   "metadata": {},
   "outputs": [],
   "source": [
    "def postbrowse(graph, m0, m1):"
   ]
  },
  {
   "cell_type": "code",
   "execution_count": 37,
   "metadata": {},
   "outputs": [],
   "source": [
    "# start a new project in Neo4j and set connections\n",
    "graph = pn.Graph(\n",
    "    host = 'localhost',\n",
    "    http_port = '7474',\n",
    "    user = 'neo4j',\n",
    "    password = '2500'\n",
    "    )   "
   ]
  },
  {
   "cell_type": "code",
   "execution_count": 45,
   "metadata": {},
   "outputs": [],
   "source": [
    "subgraph = barabasi(50,5,3)\n",
    "graph.run('match (n:User) detach delete n')\n",
    "graph.merge(subgraph,'User','name')"
   ]
  },
  {
   "cell_type": "code",
   "execution_count": 46,
   "metadata": {},
   "outputs": [
    {
     "name": "stdout",
     "output_type": "stream",
     "text": [
      "[published(Node('User', name='user32'), Node('Post', name='post0')), published(Node('User', name='user1'), Node('Post', name='post1')), published(Node('User', name='user28'), Node('Post', name='post2')), published(Node('User', name='user8'), Node('Post', name='post3')), published(Node('User', name='user17'), Node('Post', name='post4')), published(Node('User', name='user13'), Node('Post', name='post5')), published(Node('User', name='user38'), Node('Post', name='post6')), published(Node('User', name='user34'), Node('Post', name='post7')), published(Node('User', name='user10'), Node('Post', name='post8')), published(Node('User', name='user24'), Node('Post', name='post9')), published(Node('User', name='user6'), Node('Post', name='post10')), published(Node('User', name='user10'), Node('Post', name='post11')), published(Node('User', name='user48'), Node('Post', name='post12')), published(Node('User', name='user33'), Node('Post', name='post13')), published(Node('User', name='user14'), Node('Post', name='post14')), published(Node('User', name='user38'), Node('Post', name='post15')), published(Node('User', name='user46'), Node('Post', name='post16')), published(Node('User', name='user33'), Node('Post', name='post17')), published(Node('User', name='user9'), Node('Post', name='post18')), published(Node('User', name='user29'), Node('Post', name='post19')), published(Node('User', name='user30'), Node('Post', name='post20')), published(Node('User', name='user47'), Node('Post', name='post21')), published(Node('User', name='user11'), Node('Post', name='post22')), published(Node('User', name='user10'), Node('Post', name='post23')), published(Node('User', name='user9'), Node('Post', name='post24')), published(Node('User', name='user34'), Node('Post', name='post25')), published(Node('User', name='user48'), Node('Post', name='post26')), published(Node('User', name='user3'), Node('Post', name='post27')), published(Node('User', name='user47'), Node('Post', name='post28')), published(Node('User', name='user30'), Node('Post', name='post29')), published(Node('User', name='user41'), Node('Post', name='post30')), published(Node('User', name='user22'), Node('Post', name='post31')), published(Node('User', name='user37'), Node('Post', name='post32')), published(Node('User', name='user10'), Node('Post', name='post33')), published(Node('User', name='user45'), Node('Post', name='post34')), published(Node('User', name='user20'), Node('Post', name='post35')), published(Node('User', name='user42'), Node('Post', name='post36')), published(Node('User', name='user40'), Node('Post', name='post37')), published(Node('User', name='user44'), Node('Post', name='post38')), published(Node('User', name='user6'), Node('Post', name='post39')), published(Node('User', name='user11'), Node('Post', name='post40')), published(Node('User', name='user11'), Node('Post', name='post41')), published(Node('User', name='user28'), Node('Post', name='post42')), published(Node('User', name='user47'), Node('Post', name='post43')), published(Node('User', name='user38'), Node('Post', name='post44')), published(Node('User', name='user29'), Node('Post', name='post45')), published(Node('User', name='user32'), Node('Post', name='post46')), published(Node('User', name='user43'), Node('Post', name='post47')), published(Node('User', name='user39'), Node('Post', name='post48')), published(Node('User', name='user43'), Node('Post', name='post49')), published(Node('User', name='user11'), Node('Post', name='post50')), published(Node('User', name='user20'), Node('Post', name='post51')), published(Node('User', name='user44'), Node('Post', name='post52')), published(Node('User', name='user7'), Node('Post', name='post53')), published(Node('User', name='user18'), Node('Post', name='post54'))]\n"
     ]
    }
   ],
   "source": [
    "subgraph_post = postpublish(graph,55,10)\n",
    "graph.run('match (n:Post) detach delete n')\n",
    "graph.merge(subgraph_post, 'User', 'name')"
   ]
  },
  {
   "cell_type": "code",
   "execution_count": 31,
   "metadata": {},
   "outputs": [
    {
     "data": {
      "text/plain": [
       "Subgraph({Node('Post', name='post0'), Node('Post', name='post2'), Node('Post', name='post6'), Node('Post', name='post8'), Node('User', name='user7'), Node('User', name='user9'), Node('User', name='user28'), Node('User', name='user0'), Node('Post', name='post1'), Node('Post', name='post5'), Node('Post', name='post7'), Node('User', name='user42'), Node('User', name='user8'), Node('Post', name='post4'), Node('User', name='user37'), Node('Post', name='post3'), Node('Post', name='post9'), Node('User', name='user10'), Node('User', name='user17'), Node('User', name='user14')}, {published(Node('User', name='user37'), Node('Post', name='post1')), published(Node('User', name='user42'), Node('Post', name='post5')), published(Node('User', name='user7'), Node('Post', name='post7')), published(Node('User', name='user0'), Node('Post', name='post2')), published(Node('User', name='user14'), Node('Post', name='post0')), published(Node('User', name='user17'), Node('Post', name='post4')), published(Node('User', name='user8'), Node('Post', name='post6')), published(Node('User', name='user9'), Node('Post', name='post9')), published(Node('User', name='user10'), Node('Post', name='post3')), published(Node('User', name='user28'), Node('Post', name='post8'))})"
      ]
     },
     "execution_count": 31,
     "metadata": {},
     "output_type": "execute_result"
    }
   ],
   "source": [
    "subgraph_post"
   ]
  },
  {
   "cell_type": "code",
   "execution_count": null,
   "metadata": {},
   "outputs": [],
   "source": []
  },
  {
   "cell_type": "code",
   "execution_count": 26,
   "metadata": {},
   "outputs": [
    {
     "data": {
      "text/plain": [
       "8"
      ]
     },
     "execution_count": 26,
     "metadata": {},
     "output_type": "execute_result"
    }
   ],
   "source": [
    "list(graph.run('MATCH (n:User {name:\"user' + str(3) + '\"})<-[:follow]-(a) return count(a)').data()[0].values())[0]"
   ]
  },
  {
   "cell_type": "code",
   "execution_count": 22,
   "metadata": {},
   "outputs": [
    {
     "data": {
      "text/plain": [
       "[Record({'n': Node('User', name='user10')}),\n",
       " Record({'n': Node('User', name='user14')}),\n",
       " Record({'n': Node('User', name='user17')}),\n",
       " Record({'n': Node('User', name='user23')}),\n",
       " Record({'n': Node('User', name='user16')}),\n",
       " Record({'n': Node('User', name='user47')}),\n",
       " Record({'n': Node('User', name='user15')}),\n",
       " Record({'n': Node('User', name='user3')}),\n",
       " Record({'n': Node('User', name='user12')}),\n",
       " Record({'n': Node('User', name='user19')}),\n",
       " Record({'n': Node('User', name='user21')}),\n",
       " Record({'n': Node('User', name='user25')}),\n",
       " Record({'n': Node('User', name='user39')}),\n",
       " Record({'n': Node('User', name='user49')}),\n",
       " Record({'n': Node('User', name='user37')}),\n",
       " Record({'n': Node('User', name='user44')}),\n",
       " Record({'n': Node('User', name='user48')}),\n",
       " Record({'n': Node('User', name='user43')}),\n",
       " Record({'n': Node('User', name='user22')}),\n",
       " Record({'n': Node('User', name='user31')}),\n",
       " Record({'n': Node('User', name='user42')}),\n",
       " Record({'n': Node('User', name='user8')}),\n",
       " Record({'n': Node('User', name='user13')}),\n",
       " Record({'n': Node('User', name='user26')}),\n",
       " Record({'n': Node('User', name='user30')}),\n",
       " Record({'n': Node('User', name='user46')}),\n",
       " Record({'n': Node('User', name='user2')}),\n",
       " Record({'n': Node('User', name='user6')}),\n",
       " Record({'n': Node('User', name='user34')}),\n",
       " Record({'n': Node('User', name='user45')}),\n",
       " Record({'n': Node('User', name='user5')}),\n",
       " Record({'n': Node('User', name='user11')}),\n",
       " Record({'n': Node('User', name='user18')}),\n",
       " Record({'n': Node('User', name='user29')}),\n",
       " Record({'n': Node('User', name='user33')}),\n",
       " Record({'n': Node('User', name='user28')}),\n",
       " Record({'n': Node('User', name='user32')}),\n",
       " Record({'n': Node('User', name='user36')}),\n",
       " Record({'n': Node('User', name='user0')}),\n",
       " Record({'n': Node('User', name='user9')}),\n",
       " Record({'n': Node('User', name='user27')}),\n",
       " Record({'n': Node('User', name='user4')}),\n",
       " Record({'n': Node('User', name='user35')}),\n",
       " Record({'n': Node('User', name='user41')}),\n",
       " Record({'n': Node('User', name='user7')}),\n",
       " Record({'n': Node('User', name='user20')}),\n",
       " Record({'n': Node('User', name='user40')}),\n",
       " Record({'n': Node('User', name='user1')}),\n",
       " Record({'n': Node('User', name='user24')}),\n",
       " Record({'n': Node('User', name='user38')})]"
      ]
     },
     "execution_count": 22,
     "metadata": {},
     "output_type": "execute_result"
    }
   ],
   "source": [
    "follow = 0\n",
    "list(graph.run('MATCH (n: User) RETURN n'))"
   ]
  },
  {
   "cell_type": "code",
   "execution_count": 8,
   "metadata": {},
   "outputs": [
    {
     "data": {
      "text/plain": [
       "[1165,\n",
       " 1166,\n",
       " 1167,\n",
       " 1168,\n",
       " 1169,\n",
       " 1170,\n",
       " 1171,\n",
       " 1172,\n",
       " 1173,\n",
       " 1174,\n",
       " 1175,\n",
       " 1176,\n",
       " 1177,\n",
       " 1178,\n",
       " 1179,\n",
       " 1180,\n",
       " 1181,\n",
       " 1182,\n",
       " 1183,\n",
       " 1184,\n",
       " 1185,\n",
       " 1186,\n",
       " 1187,\n",
       " 1188,\n",
       " 1189,\n",
       " 1190,\n",
       " 1191,\n",
       " 1192,\n",
       " 1193,\n",
       " 1194,\n",
       " 1195,\n",
       " 1196,\n",
       " 1197,\n",
       " 1198,\n",
       " 1199,\n",
       " 1200,\n",
       " 1201,\n",
       " 1202,\n",
       " 1203,\n",
       " 1204,\n",
       " 1205,\n",
       " 1206,\n",
       " 1207,\n",
       " 1208,\n",
       " 1209,\n",
       " 1210,\n",
       " 1211,\n",
       " 1212,\n",
       " 1213,\n",
       " 1214]"
      ]
     },
     "execution_count": 8,
     "metadata": {},
     "output_type": "execute_result"
    }
   ],
   "source": [
    "list(graph.nodes)"
   ]
  },
  {
   "cell_type": "code",
   "execution_count": null,
   "metadata": {},
   "outputs": [],
   "source": []
  },
  {
   "cell_type": "code",
   "execution_count": null,
   "metadata": {},
   "outputs": [],
   "source": []
  },
  {
   "cell_type": "code",
   "execution_count": null,
   "metadata": {},
   "outputs": [],
   "source": []
  },
  {
   "cell_type": "code",
   "execution_count": null,
   "metadata": {},
   "outputs": [],
   "source": []
  }
 ],
 "metadata": {
  "kernelspec": {
   "display_name": "Python 3",
   "language": "python",
   "name": "python3"
  },
  "language_info": {
   "codemirror_mode": {
    "name": "ipython",
    "version": 3
   },
   "file_extension": ".py",
   "mimetype": "text/x-python",
   "name": "python",
   "nbconvert_exporter": "python",
   "pygments_lexer": "ipython3",
   "version": "3.8.5"
  }
 },
 "nbformat": 4,
 "nbformat_minor": 4
}
