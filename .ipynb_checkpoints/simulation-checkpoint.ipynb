{
 "cells": [
  {
   "cell_type": "code",
   "execution_count": 30,
   "metadata": {},
   "outputs": [],
   "source": [
    "import networkx\n",
    "import random as rd\n",
    "import numpy as np"
   ]
  },
  {
   "cell_type": "code",
   "execution_count": 3,
   "metadata": {},
   "outputs": [],
   "source": [
    "def barabasi(total_n, starting_n, directed = False):\n",
    "    ### Generate a Barabasi-Albert network simulation\n",
    "    # total_n: total number of nodes\n",
    "    # starting_n: number of nodes to generate edges uniformly at random\n",
    "    # directed: if not directed will include reverse edges\n",
    "    # returns edges: list of tuples (i,j) where i is connected to j\n",
    "    ###\n",
    "    edges = []\n",
    "    for i in range(starting_n):\n",
    "        # Generate links uniformly at random\n",
    "        temp = [(i,j) for j in range(starting_n) if rd.uniform(0,1) < 1/2 and i != j]\n",
    "        edges.extend(temp)\n",
    "        # If not directed then generate the reverse links\n",
    "        if directed == False:\n",
    "            temp1 = [(j,i) for (i,j) in temp]\n",
    "            edges.extend(temp1)\n",
    "    for l in range(starting_n, total_n):\n",
    "        n = len(edges)\n",
    "        if directed == False:\n",
    "            n = n/2\n",
    "        # Compute the probability for a new node to connect to each existing node\n",
    "        temp_probs = [len(list(filter(lambda x: j == x[1], edges)))/n for (i,j) in edges]\n",
    "        # Generate links for a new node\n",
    "        temp = [(l,j) for j in range(l) if rd.uniform(0,1) < temp_probs[j] and l != j]\n",
    "        edges.extend(temp)\n",
    "        if directed == False:\n",
    "            temp1 = [(j,i) for (i,j) in temp]\n",
    "            edges.extend(temp1)\n",
    "    return edges"
   ]
  },
  {
   "cell_type": "code",
   "execution_count": 31,
   "metadata": {},
   "outputs": [],
   "source": [
    "def postpublish(friends_edges, follower_edges, m0, m1):\n",
    "    ### Simulate a list of posts and users who create them (as a tuple)\n",
    "    # friends_edges: list of edges as tuples for friendship network\n",
    "    # follower_edges: list of edges as tuples for follower network\n",
    "    # m0: starting number of posts\n",
    "    # m1: total number of posts\n",
    "    # returns postpublished: list of tuples (i,j) where user i posted post j\n",
    "    ###\n",
    "    postpublished = []\n",
    "    \n",
    "    # Get the max edges\n",
    "    temp = [i for (i,j) in friends_edges]\n",
    "    temp.extend([j for (i,j) in friends_edges])\n",
    "    n = max(temp)\n",
    "    \n",
    "    # Generate the first posts\n",
    "    for i in range(m0):\n",
    "        postpublished.append((rd.randint(0,n),i))\n",
    "    \n",
    "    # Generate the rest of the posts\n",
    "    for m in range(m0,m1):\n",
    "        # Compute the prob that anyone posts\n",
    "        probs = []\n",
    "        for k in range(0,n):\n",
    "            temp_probs = [len(list(filter(lambda x: j == x[1], friends_edges)))\n",
    "                                  for (i,j) in friends_edges]\n",
    "            temp_probs = temp_probs + [len(list(filter(lambda x: j == x[1], follower_edges)))\n",
    "                                  for (i,j) in follower_edges]\n",
    "            temp_probs = temp_probs + [len(list(filter(lambda x: i == x[0], postpublished)))\n",
    "                                  for (i,j) in postpublished]\n",
    "            probs.append(temp_probs)\n",
    "        temp_user = rd.choices(list[range(0,n)], weights = probs)\n",
    "        postpublished.append((temp_user,m))                      \n",
    "    \n",
    "    return postpublished\n",
    "    "
   ]
  },
  {
   "cell_type": "code",
   "execution_count": 4,
   "metadata": {},
   "outputs": [],
   "source": [
    "network=barabasi(10,5)"
   ]
  },
  {
   "cell_type": "code",
   "execution_count": 25,
   "metadata": {},
   "outputs": [
    {
     "data": {
      "text/plain": [
       "8"
      ]
     },
     "execution_count": 25,
     "metadata": {},
     "output_type": "execute_result"
    }
   ],
   "source": [
    "rd.randint(0,10)"
   ]
  },
  {
   "cell_type": "code",
   "execution_count": 29,
   "metadata": {},
   "outputs": [
    {
     "ename": "SyntaxError",
     "evalue": "invalid syntax (<ipython-input-29-92973fe0490f>, line 2)",
     "output_type": "error",
     "traceback": [
      "\u001b[0;36m  File \u001b[0;32m\"<ipython-input-29-92973fe0490f>\"\u001b[0;36m, line \u001b[0;32m2\u001b[0m\n\u001b[0;31m    lists[1]./7\u001b[0m\n\u001b[0m             ^\u001b[0m\n\u001b[0;31mSyntaxError\u001b[0m\u001b[0;31m:\u001b[0m invalid syntax\n"
     ]
    }
   ],
   "source": [
    "lists = [(7,9),(0,10)]\n",
    "lists[1]./7"
   ]
  },
  {
   "cell_type": "code",
   "execution_count": 20,
   "metadata": {},
   "outputs": [],
   "source": [
    "aaa= [i for (i,j) in network]"
   ]
  },
  {
   "cell_type": "code",
   "execution_count": 22,
   "metadata": {},
   "outputs": [],
   "source": [
    "aaa.extend([j for (i,j) in network])"
   ]
  },
  {
   "cell_type": "code",
   "execution_count": 23,
   "metadata": {},
   "outputs": [
    {
     "data": {
      "text/plain": [
       "[0,\n",
       " 0,\n",
       " 0,\n",
       " 1,\n",
       " 2,\n",
       " 3,\n",
       " 1,\n",
       " 0,\n",
       " 2,\n",
       " 2,\n",
       " 0,\n",
       " 4,\n",
       " 3,\n",
       " 4,\n",
       " 4,\n",
       " 4,\n",
       " 2,\n",
       " 3,\n",
       " 5,\n",
       " 5,\n",
       " 3,\n",
       " 4,\n",
       " 6,\n",
       " 6,\n",
       " 6,\n",
       " 1,\n",
       " 3,\n",
       " 5,\n",
       " 7,\n",
       " 7,\n",
       " 7,\n",
       " 7,\n",
       " 1,\n",
       " 2,\n",
       " 4,\n",
       " 5,\n",
       " 8,\n",
       " 8,\n",
       " 3,\n",
       " 5,\n",
       " 9,\n",
       " 4,\n",
       " 1,\n",
       " 2,\n",
       " 3,\n",
       " 0,\n",
       " 0,\n",
       " 0,\n",
       " 0,\n",
       " 1,\n",
       " 0,\n",
       " 4,\n",
       " 2,\n",
       " 2,\n",
       " 4,\n",
       " 3,\n",
       " 2,\n",
       " 3,\n",
       " 4,\n",
       " 4,\n",
       " 3,\n",
       " 4,\n",
       " 5,\n",
       " 5,\n",
       " 1,\n",
       " 3,\n",
       " 5,\n",
       " 6,\n",
       " 6,\n",
       " 6,\n",
       " 1,\n",
       " 2,\n",
       " 4,\n",
       " 5,\n",
       " 7,\n",
       " 7,\n",
       " 7,\n",
       " 7,\n",
       " 3,\n",
       " 5,\n",
       " 8,\n",
       " 8,\n",
       " 4,\n",
       " 9]"
      ]
     },
     "execution_count": 23,
     "metadata": {},
     "output_type": "execute_result"
    }
   ],
   "source": [
    "aaa"
   ]
  },
  {
   "cell_type": "code",
   "execution_count": null,
   "metadata": {},
   "outputs": [],
   "source": []
  }
 ],
 "metadata": {
  "kernelspec": {
   "display_name": "Python 3",
   "language": "python",
   "name": "python3"
  },
  "language_info": {
   "codemirror_mode": {
    "name": "ipython",
    "version": 3
   },
   "file_extension": ".py",
   "mimetype": "text/x-python",
   "name": "python",
   "nbconvert_exporter": "python",
   "pygments_lexer": "ipython3",
   "version": "3.8.5"
  }
 },
 "nbformat": 4,
 "nbformat_minor": 4
}
