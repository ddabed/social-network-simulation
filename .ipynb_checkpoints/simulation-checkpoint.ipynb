{
 "cells": [
  {
   "cell_type": "code",
   "execution_count": 1,
   "metadata": {},
   "outputs": [],
   "source": [
    "import numpy as np \n",
    "import py2neo as pn \n",
    "import random as rd\n",
    "import timeit\n",
    "import math\n",
    "import copy"
   ]
  },
  {
   "cell_type": "code",
   "execution_count": 2,
   "metadata": {},
   "outputs": [],
   "source": [
    "def barabasi(total_n, starting_n, starting_b):\n",
    "    ### Generate a Barabasi-Albert network simulation\n",
    "    # total_n: total number of nodes\n",
    "    # starting_n: number of nodes to generate edges uniformly at random\n",
    "    # returns subgraph: neo4j graph object\n",
    "    ###\n",
    "    edges = []\n",
    "    nodes = [pn.Node('User', name='user' + str(i)) for i in range(starting_n)]\n",
    "    for i in range(starting_n):\n",
    "        # Generate links uniformly at random\n",
    "        temp_list = list(range(starting_n))\n",
    "        temp_list.remove(i)\n",
    "        linkto = rd.sample(temp_list, starting_b)\n",
    "        temp = [pn.Relationship(nodes[i], \"follow\", nodes[j]) for j in linkto]\n",
    "        edges.extend(temp)\n",
    "    for l in range(starting_n, total_n):\n",
    "        nodes.append(pn.Node('User', name='user' + str(l)))\n",
    "        n = len(edges)\n",
    "        # Compute the probability for a new node to connect to each existing node\n",
    "        temp_probs = [len(list(filter(lambda x: x.end_node == nodes[j] or x.start_node == nodes[j]\n",
    "                                      , edges)))/(2*n) for j in range(len(nodes))]\n",
    "        # Generate links for a new node\n",
    "        temp = [pn.Relationship(nodes[l], \"follow\", nodes[j]) for j in range(l) \n",
    "                        if rd.uniform(0,1) < temp_probs[j] and l != j]\n",
    "        edges.extend(temp)\n",
    "    subgraph = pn.Subgraph(nodes,edges)\n",
    "    return subgraph"
   ]
  },
  {
   "cell_type": "code",
   "execution_count": 3,
   "metadata": {},
   "outputs": [],
   "source": [
    "def postpublish(graph, m0, m1):\n",
    "    ### Simulate a list of posts and users who create them\n",
    "    # graph: py2neo object for follower network\n",
    "    # m0: starting number of posts\n",
    "    # m1: total number of posts\n",
    "    # returns postpublished and relationship subgraph\n",
    "    ###\n",
    "    postpublished = []\n",
    "    relationships = []\n",
    "    \n",
    "    # Get the users and the number of users\n",
    "    nodes = list(graph.run('MATCH (n: User) RETURN n'))\n",
    "    n = len(nodes)\n",
    "    \n",
    "    # Generate the first posts\n",
    "    for i in range(m0):\n",
    "        new_post = pn.Node('Post', name='post' + str(i))\n",
    "        postpublished.append(new_post)\n",
    "        relationships.append(pn.Relationship(rd.choice(nodes)[0],'published',new_post))\n",
    "    \n",
    "    # Generate the rest of the posts\n",
    "    for m in range(m0,m1):\n",
    "        new_post = pn.Node('Post', name='post' + str(m))\n",
    "        # Compute the prob that anyone posts\n",
    "        probs = []\n",
    "        for k in range(n):\n",
    "            # Count number of followers\n",
    "            temp_probs = list(graph.run('MATCH (n:User {name:\"user' + str(3) + '\"})<-[:follow]-(a) return count(a)').data()[0].values())[0]\n",
    "            # Count number of posts\n",
    "            temp_probs = temp_probs + len(list(filter(lambda x: x.start_node == nodes[k][0], relationships)))\n",
    "            probs.append(temp_probs)\n",
    "        # Choose a user for new post\n",
    "        temp_user = rd.choices(nodes, weights = probs)\n",
    "        postpublished.append(temp_user[0], 'published', new_post)  \n",
    "    subgraph = pn.Subgraph(postpublished,relationships)\n",
    "    return subgraph"
   ]
  },
  {
   "cell_type": "code",
   "execution_count": 4,
   "metadata": {},
   "outputs": [],
   "source": [
    "def postview(P,N,graph):\n",
    "    # depends on friends/followers/reads\n",
    "    user_list = [pn.Node('User', name='user' + str(i)) for i in N]\n",
    "    post_list = [pn.Node('Post', name='post' + str(i)) for i in P]\n",
    "    view_list = [0] * len(P)\n",
    "    rel_list = []\n",
    "    k_all_friends = 0\n",
    "    k_all_follow = 0\n",
    "    for i in P:\n",
    "        user = list(graph.run('match (n:Post{name:\"post' + str(i) + '\"})<-[:published]-(a) return a').data()[0].values())[0].nodes[0]['name']\n",
    "        friends = list(graph.run('MATCH (n:User {name:\"' + user + '\"})-[:friends]-(a) return count(a)').data()[0].values())[0]\n",
    "        k_all_friends += friends\n",
    "        follow = list(graph.run('MATCH (n:User {name:\"' + user + '\"})<-[:follow]-(a) return count(a)').data()[0].values())[0]\n",
    "        k_all_follow += follow\n",
    "    for i in P:\n",
    "        user = list(graph.run('match (n:Post{name:\"post' + str(i) + '\"})<-[:published]-(a) return a').data()[0].values())[0].nodes[0]['name']\n",
    "        user_list_m = copy.deepcopy(user_list)\n",
    "        for n in user_list_m:\n",
    "            if n['name'] == user:\n",
    "                user_list_m.remove(n)\n",
    "        friends = list(graph.run('MATCH (n:User {name:\"' + user + '\"})-[:friends]-(a) return count(a)').data()[0].values())[0]\n",
    "        follow = list(graph.run('MATCH (n:User {name:\"' + user + '\"})<-[:follow]-(a) return count(a)').data()[0].values())[0]\n",
    "        p = (friends + follow + view_list[i]) / (k_all_friends + k_all_follow + sum(view_list))\n",
    "        p_random = rd.random()\n",
    "        if p_random <= p:\n",
    "            user_choice = np.random.choice(user_list_m,1)[0]\n",
    "            rel_list.append(pn.Relationship(user_choice,'viewed',post_list[i]))\n",
    "            view_list[i] += 1\n",
    "    s = pn.Subgraph(post_list,rel_list)\n",
    "    return s\n",
    "\n",
    "def postlike(P,N,graph):\n",
    "    user_list = [pn.Node('User', name='user' + str(i)) for i in N]\n",
    "    post_list = [pn.Node('Post', name='post' + str(i)) for i in P]\n",
    "    liked_list = [0] * len(P)\n",
    "    rel_list = []\n",
    "    k_all_friends = 0\n",
    "    k_all_follow = 0\n",
    "    k_all_posted = 0\n",
    "    for i in P:\n",
    "        user = list(graph.run('match (n:Post{name:\"post' + str(i) + '\"})<-[:published]-(a) return a').data()[0].values())[0].nodes[0]['name']\n",
    "        friends = list(graph.run('MATCH (n:User {name:\"' + user + '\"})-[:friends]-(a) return count(a)').data()[0].values())[0]\n",
    "        k_all_friends += friends\n",
    "        follow = list(graph.run('MATCH (n:User {name:\"' + user + '\"})<-[:follow]-(a) return count(a)').data()[0].values())[0]\n",
    "        k_all_follow += follow\n",
    "        post = list(graph.run('MATCH (n:User {name:\"' + user + '\"})-[:published]->(a) return count(a)').data()[0].values())[0] \n",
    "        k_all_posted += post\n",
    "    for i in P:\n",
    "        user = list(graph.run('match (n:Post{name:\"post' + str(i) + '\"})<-[:published]-(a) return a').data()[0].values())[0].nodes[0]['name']\n",
    "        user_list_m = copy.deepcopy(user_list)\n",
    "        for n in user_list_m:\n",
    "            if n['name'] == user:\n",
    "                user_list_m.remove(n)\n",
    "        friends = list(graph.run('MATCH (n:User {name:\"' + user + '\"})-[:friends]-(a) return count(a)').data()[0].values())[0]\n",
    "        follow = list(graph.run('MATCH (n:User {name:\"' + user + '\"})<-[:follow]-(a) return count(a)').data()[0].values())[0]\n",
    "        post = list(graph.run('MATCH (n:User {name:\"' + user + '\"})-[:published]->(a) return count(a)').data()[0].values())[0]\n",
    "        for j in N:\n",
    "            p = (friends + follow + post + liked_list[i]) / (k_all_friends + k_all_follow + k_all_posted + sum(liked_list))\n",
    "            p_random = rd.random()\n",
    "            if p_random <= p:\n",
    "                user_choice = np.random.choice(user_list_m,1)[0]\n",
    "                rel_list.append(pn.Relationship(user_choice,'liked',post_list[i]))\n",
    "                liked_list[i] += 1\n",
    "    s = pn.Subgraph(post_list,rel_list)\n",
    "    return s\n",
    "    "
   ]
  },
  {
   "cell_type": "code",
   "execution_count": 5,
   "metadata": {},
   "outputs": [],
   "source": [
    "# start a new project in Neo4j and set connections\n",
    "graph = pn.Graph(\n",
    "    host = 'localhost',\n",
    "    http_port = '7474',\n",
    "    user = 'neo4j',\n",
    "    password = '2500'\n",
    "    )   "
   ]
  },
  {
   "cell_type": "code",
   "execution_count": null,
   "metadata": {},
   "outputs": [],
   "source": [
    "################ Experiment 1\n",
    "start = timeit.default_timer()\n",
    "NPosts = 1000\n",
    "NUsers = 1000\n",
    "P=list(range(500))\n",
    "N=list(range(500))\n",
    "graph.run('match (n:User) detach delete n')\n",
    "graph.run('match (n:Post) detach delete n')\n",
    "subgraph = barabasi(NUsers,10,5)\n",
    "graph.merge(subgraph,'User','name')\n",
    "subgraph_post = postpublish(graph,NPosts,10)\n",
    "graph.merge(subgraph_post, 'User', 'name')\n",
    "# stage 6\n",
    "s_posts_viewed = postview(P,N,graph)\n",
    "# stage 7\n",
    "graph.merge(s_posts_viewed,'User','name')\n",
    "# stage 8\n",
    "s_posts_liked = postlike(P,N,graph)\n",
    "# stage 9\n",
    "graph.merge(s_posts_liked,'User','name')\n",
    "\n",
    "\n",
    "stop = timeit.default_timer()\n",
    "\n",
    "print('Time: ', stop - start)  "
   ]
  },
  {
   "cell_type": "code",
   "execution_count": null,
   "metadata": {},
   "outputs": [],
   "source": [
    "# Store values for post liked and post viewed\n",
    "exp1_posts_viewed = {}\n",
    "exp1_posts_liked = {}\n",
    "for i in P:\n",
    "    exp1_posts_viewed['post'+str(i)]=list(graph.run('MATCH (n:Post {name:\"post' + str(i) + '\"})<-[:viewed]-(a) return count(a)').data()[0].values())[0]\n",
    "    exp1_posts_liked['post'+str(i)]=list(graph.run('MATCH (n:Post {name:\"post' + str(i) + '\"})<-[:liked]-(a) return count(a)').data()[0].values())[0]"
   ]
  },
  {
   "cell_type": "code",
   "execution_count": null,
   "metadata": {},
   "outputs": [],
   "source": [
    "exp1_posts_viewed"
   ]
  },
  {
   "cell_type": "code",
   "execution_count": null,
   "metadata": {},
   "outputs": [],
   "source": [
    "list(graph.run('MATCH (n: User {name:\"user' + str(3) + '\"})<-[:follow]-(a: User {name:\"user' + str(5) + '\"}) return count(*)').data()[0].values())[0]"
   ]
  },
  {
   "cell_type": "code",
   "execution_count": null,
   "metadata": {},
   "outputs": [],
   "source": [
    "list(graph.run('MATCH (n:User {name:\"user' + str(3) + '\"})<-[:follow]-(a) return count(a)').data()[0].values())[0]"
   ]
  },
  {
   "cell_type": "code",
   "execution_count": null,
   "metadata": {},
   "outputs": [],
   "source": [
    "follow = 0\n",
    "list(graph.run('MATCH (n: User) RETURN n'))"
   ]
  },
  {
   "cell_type": "code",
   "execution_count": null,
   "metadata": {},
   "outputs": [],
   "source": [
    "list(graph.nodes)"
   ]
  },
  {
   "cell_type": "code",
   "execution_count": null,
   "metadata": {},
   "outputs": [],
   "source": [
    "list(graph.run('MATCH (n:Post {name:\"post' + str(76) + '\"})<-[:liked]-(a) return count(a)').data()[0].values())[0]"
   ]
  },
  {
   "cell_type": "code",
   "execution_count": null,
   "metadata": {},
   "outputs": [],
   "source": []
  },
  {
   "cell_type": "code",
   "execution_count": null,
   "metadata": {},
   "outputs": [],
   "source": []
  },
  {
   "cell_type": "code",
   "execution_count": null,
   "metadata": {},
   "outputs": [],
   "source": []
  }
 ],
 "metadata": {
  "kernelspec": {
   "display_name": "Python 3",
   "language": "python",
   "name": "python3"
  },
  "language_info": {
   "codemirror_mode": {
    "name": "ipython",
    "version": 3
   },
   "file_extension": ".py",
   "mimetype": "text/x-python",
   "name": "python",
   "nbconvert_exporter": "python",
   "pygments_lexer": "ipython3",
   "version": "3.8.5"
  }
 },
 "nbformat": 4,
 "nbformat_minor": 4
}
